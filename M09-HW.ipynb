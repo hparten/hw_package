{
 "cells": [
  {
   "cell_type": "markdown",
   "metadata": {},
   "source": [
    "# Metadata\n",
    "\n",
    "```yaml\n",
    "Course:  DS 5100\n",
    "Module:  09 Python Packages\n",
    "Topic:   HW Package Booklover\n",
    "Author:  R.C. Alvarado (adapted)\n",
    "Date:    10 October 2022 (revised)\n",
    "```"
   ]
  },
  {
   "cell_type": "markdown",
   "metadata": {},
   "source": [
    "# Student Info\n",
    "\n",
    "* Name: Hallie Parten\n",
    "* Net UD: zsk4gm\n",
    "* URL of this file in GitHub: https://github.com/hparten/hw_package/blob/main/M09-HW.ipynb"
   ]
  },
  {
   "cell_type": "markdown",
   "metadata": {},
   "source": [
    "# Instructions\n",
    "\n",
    "In your **private course repo on Rivanna**, use this Jupyter notebook and the data file described to write code that performs the tasks below. \n",
    "\n",
    "Save your notebook in the `M09` directory.\n",
    "\n",
    "Remember to add and commit these files to your repo. \n",
    "\n",
    "Then push your commits to your repo on GitHib.\n",
    "\n",
    "Be sure to fill out the **Student Info** block above.\n",
    "\n",
    "To submit your homework, save your results as a PDF and upload it to GradeScope. More information about how to create the PDF for this assignment are included at the end of this document.\n",
    "\n",
    "**TOTAL POINTS: 8**"
   ]
  },
  {
   "cell_type": "markdown",
   "metadata": {},
   "source": [
    "# Overview\n",
    "\n",
    "Follow the following recipe we used in class to package the code you wrote for `HW08` -- `booklover.py` and `booklover_test.py`.\n",
    "\n",
    "* Create a new git repo for your package.\n",
    "* Create and edit the required files and directories for your package and move the booklover modules there.\n",
    "* Stage, commit, and push all the files you've created.\n",
    "* Install your package with pip.\n",
    "* Outside of your package dir, write a script to test your method.\n",
    "\n",
    "Put this notebook in your repo. This will allow you to execute bash commands and capture the output directly in the notebook.\n",
    "\n",
    "**TOTAL: 8 POINTS**"
   ]
  },
  {
   "cell_type": "markdown",
   "metadata": {
    "tags": []
   },
   "source": [
    "# Tasks"
   ]
  },
  {
   "cell_type": "markdown",
   "metadata": {},
   "source": [
    "## Task 1\n",
    "\n",
    "(5 points)\n",
    "\n",
    "Show the directory structure of your repo by running this command from the root of your repo:"
   ]
  },
  {
   "cell_type": "code",
   "execution_count": 9,
   "metadata": {},
   "outputs": [
    {
     "name": "stdout",
     "output_type": "stream",
     "text": [
      ".:\n",
      "total 40\n",
      "-rw-r--r-- 1 zsk4gm users 7048 Mar 31 17:09 LICENSE\n",
      "drwxr-sr-x 5 zsk4gm users 2560 Apr  1 13:19 loverbook\n",
      "-rw-r--r-- 1 zsk4gm users 8510 Apr  1 13:56 M09-HW.ipynb\n",
      "-rw-r--r-- 1 zsk4gm users   38 Mar 31 17:09 README.md\n",
      "-rw-r--r-- 1 zsk4gm users  375 Mar 31 19:10 setup.py\n",
      "\n",
      "./loverbook:\n",
      "total 20\n",
      "-rw-r--r-- 1 zsk4gm users 1891 Apr  1 01:08 booklover.py\n",
      "-rw-r--r-- 1 zsk4gm users   36 Apr  1 13:19 __init__.py\n",
      "drwxr-sr-x 2 zsk4gm users 1024 Apr  1 13:30 __pycache__\n",
      "drwxr-sr-x 4 zsk4gm users 2048 Apr  1 13:32 test\n",
      "\n",
      "./loverbook/__pycache__:\n",
      "total 12\n",
      "-rw-r--r-- 1 zsk4gm users 1988 Apr  1 13:30 booklover.cpython-38.pyc\n",
      "-rw-r--r-- 1 zsk4gm users  244 Apr  1 13:19 __init__.cpython-38.pyc\n",
      "\n",
      "./loverbook/test:\n",
      "total 16\n",
      "-rw-r--r-- 1 zsk4gm users 2432 Apr  1 13:32 booklover_test.py\n",
      "-rw-r--r-- 1 zsk4gm users   26 Mar 31 17:59 __init__.py\n",
      "drwxr-sr-x 2 zsk4gm users  512 Apr  1 13:12 __pycache__\n",
      "\n",
      "./loverbook/test/__pycache__:\n",
      "total 4\n",
      "-rw-r--r-- 1 zsk4gm users 239 Apr  1 13:12 __init__.cpython-38.pyc\n"
     ]
    }
   ],
   "source": [
    "!ls -lR"
   ]
  },
  {
   "cell_type": "markdown",
   "metadata": {},
   "source": [
    "## Task 2\n",
    "\n",
    "(1 point)\n",
    "\n",
    "Put the URL of your GitHub repo here. Just paste it into a Markdown cell."
   ]
  },
  {
   "cell_type": "markdown",
   "metadata": {},
   "source": [
    "URL: https://github.com/hparten/hw_package"
   ]
  },
  {
   "cell_type": "markdown",
   "metadata": {
    "lines_to_next_cell": 0
   },
   "source": [
    "## Task 3\n",
    "\n",
    "(1 point)\n",
    "\n",
    "Show the results of installing your package.\n",
    "\n",
    "```bash\n",
    "!pip install -e .\n",
    "```"
   ]
  },
  {
   "cell_type": "code",
   "execution_count": 2,
   "metadata": {},
   "outputs": [
    {
     "name": "stdout",
     "output_type": "stream",
     "text": [
      "Defaulting to user installation because normal site-packages is not writeable\n",
      "Requirement already satisfied: pip in /sfs/qumulo/qhome/zsk4gm/.local/lib/python3.8/site-packages (23.0.1)\n"
     ]
    }
   ],
   "source": [
    "!python -m pip install --upgrade pip"
   ]
  },
  {
   "cell_type": "code",
   "execution_count": 3,
   "metadata": {},
   "outputs": [
    {
     "name": "stdout",
     "output_type": "stream",
     "text": [
      "/bin/bash: line 0: cd: hw_package: No such file or directory\n",
      "Defaulting to user installation because normal site-packages is not writeable\n",
      "Obtaining file:///sfs/qumulo/qhome/zsk4gm/Documents/MSDS/DS5100/DS5100-2023-01-zsk4gm/lessons/M09/hw_package\n",
      "  Preparing metadata (setup.py) ... \u001b[?25ldone\n",
      "\u001b[?25hInstalling collected packages: booklover\n",
      "  Attempting uninstall: booklover\n",
      "    Found existing installation: booklover 0.1.0\n",
      "    Uninstalling booklover-0.1.0:\n",
      "      Successfully uninstalled booklover-0.1.0\n",
      "  Running setup.py develop for booklover\n",
      "Successfully installed booklover-0.1.0\n"
     ]
    }
   ],
   "source": [
    "!cd hw_package; pip install -e ."
   ]
  },
  {
   "cell_type": "markdown",
   "metadata": {},
   "source": [
    "## Task 4\n",
    "\n",
    "(1 point)\n",
    "\n",
    "Create a file outside your repo to test your package by running it.\n",
    "\n",
    "To do this, import the package into your file and create a BookLover object.\n",
    "\n",
    "Then add a book and then print number books read.\n",
    "\n",
    "Then run the file. \n",
    "\n",
    "Show the output of running the file below, using a command like the following:\n",
    "\n",
    "```bash\n",
    "!python ../book_lover_demo.py\n",
    "```"
   ]
  },
  {
   "cell_type": "code",
   "execution_count": 6,
   "metadata": {},
   "outputs": [
    {
     "name": "stdout",
     "output_type": "stream",
     "text": [
      "BookLover is ready to use!\n",
      "/sfs/qumulo/qhome/zsk4gm/Documents/MSDS/DS5100/DS5100-2023-01-zsk4gm/lessons/M09/hw_package/loverbook/booklover.py:18: FutureWarning: elementwise comparison failed; returning scalar instead, but in the future will perform elementwise comparison\n",
      "  if book_name in self.book_list.book_name.values:\n",
      "1\n"
     ]
    }
   ],
   "source": [
    "!python ../book_lover_demo.py"
   ]
  }
 ],
 "metadata": {
  "jupytext": {
   "cell_metadata_filter": "-all",
   "main_language": "bash",
   "notebook_metadata_filter": "-all"
  },
  "kernelspec": {
   "display_name": "Python 3",
   "language": "python",
   "name": "python3"
  },
  "language_info": {
   "codemirror_mode": {
    "name": "ipython",
    "version": 3
   },
   "file_extension": ".py",
   "mimetype": "text/x-python",
   "name": "python",
   "nbconvert_exporter": "python",
   "pygments_lexer": "ipython3",
   "version": "3.8.8"
  },
  "vscode": {
   "interpreter": {
    "hash": "c3b963de08c47c3b6758389c5e0978ad73698a111eb508d4e16b558edb8f4cbf"
   }
  },
  "widgets": {
   "application/vnd.jupyter.widget-state+json": {
    "state": {},
    "version_major": 2,
    "version_minor": 0
   }
  }
 },
 "nbformat": 4,
 "nbformat_minor": 5
}
